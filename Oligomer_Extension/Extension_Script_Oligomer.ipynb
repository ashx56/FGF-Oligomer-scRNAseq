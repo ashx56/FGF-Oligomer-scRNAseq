{
 "cells": [
  {
   "cell_type": "code",
   "execution_count": 19,
   "metadata": {},
   "outputs": [
    {
     "data": {
      "text/plain": [
       "'\\nThis Script was used in the Manuscript for repeat-extension of DHRs as depicted in Figure 2A \\n\\nThe Code was originally developed by Florian Praetorius, demo made available by Thomas Schlichthaerle\\n\\nPre-requisite to run the script is to have a working pyrosetta Installation (https://github.com/RosettaCommons/rosetta)\\n'"
      ]
     },
     "execution_count": 19,
     "metadata": {},
     "output_type": "execute_result"
    }
   ],
   "source": [
    "'''\n",
    "This Script was used in the Manuscript for repeat-extension of DHRs as depicted in Figure 2A \n",
    "\n",
    "The Code was originally developed by Florian Praetorius, demo made available by Thomas Schlichthaerle\n",
    "\n",
    "Pre-requisite to run the script is to have a working pyrosetta Installation (https://github.com/RosettaCommons/rosetta)\n",
    "'''"
   ]
  },
  {
   "cell_type": "code",
   "execution_count": 20,
   "metadata": {},
   "outputs": [
    {
     "name": "stdout",
     "output_type": "stream",
     "text": [
      "/home/thomschl/Papers/Oligomers/submission/final_April2024/Code_and_Raw_Data/Oligomer_Extension_Script\n",
      "┌──────────────────────────────────────────────────────────────────────────────┐\n",
      "│                                 PyRosetta-4                                  │\n",
      "│              Created in JHU by Sergey Lyskov and PyRosetta Team              │\n",
      "│              (C) Copyright Rosetta Commons Member Institutions               │\n",
      "│                                                                              │\n",
      "│ NOTE: USE OF PyRosetta FOR COMMERCIAL PURPOSES REQUIRE PURCHASE OF A LICENSE │\n",
      "│         See LICENSE.PyRosetta.md or email license@uw.edu for details         │\n",
      "└──────────────────────────────────────────────────────────────────────────────┘\n",
      "PyRosetta-4 2024 [Rosetta PyRosetta4.Release.python310.ubuntu 2024.16+release.bc4dfa1b240a4138da057c7de791d08506956c8d 2024-04-16T10:39:11] retrieved from: http://www.pyrosetta.org\n"
     ]
    }
   ],
   "source": [
    "#Import of basic modules and initialization of pyrosetta\n",
    "\n",
    "!pwd\n",
    "import pyrosetta\n",
    "import os\n",
    "import glob\n",
    "pyrosetta.init(\"-mute all\")\n",
    "sfxn = pyrosetta.rosetta.core.scoring.ScoreFunction()\n",
    "sfxn.set_weight(pyrosetta.rosetta.core.scoring.fa_rep, 1)"
   ]
  },
  {
   "cell_type": "code",
   "execution_count": 21,
   "metadata": {},
   "outputs": [],
   "source": [
    "#Function Library for Repeat Extension of Structures\n",
    "\n",
    "def range_CA_align(pose1, pose2, start1, end1, start2, end2):\n",
    "    #This function aligns Pose1 and Pose2 given Start and End Residue Numbers for both poses; the alignment lengths on both poses needs to be the same\n",
    "    #Glossary: Pose - A Pose in pyrosetta describes a PDB structure that was loaded into pyrosetta\n",
    "    pose1_residue_selection = range(start1,end1)\n",
    "    pose2_residue_selection = range(start2,end2)\n",
    "    \n",
    "    assert len(pose1_residue_selection) == len(pose2_residue_selection)\n",
    "\n",
    "    pose1_coordinates = pyrosetta.rosetta.utility.vector1_numeric_xyzVector_double_t()\n",
    "    pose2_coordinates = pyrosetta.rosetta.utility.vector1_numeric_xyzVector_double_t()\n",
    "\n",
    "    for pose1_residue_index, pose2_residue_index in zip(pose1_residue_selection, pose2_residue_selection):\n",
    "        pose1_coordinates.append(pose1.residues[pose1_residue_index].xyz('CA'))\n",
    "        pose2_coordinates.append(pose2.residues[pose2_residue_index].xyz('CA'))\n",
    "\n",
    "    rotation_matrix = pyrosetta.rosetta.numeric.xyzMatrix_double_t()\n",
    "    pose1_center = pyrosetta.rosetta.numeric.xyzVector_double_t()\n",
    "    pose2_center = pyrosetta.rosetta.numeric.xyzVector_double_t()\n",
    "\n",
    "    pyrosetta.rosetta.protocols.toolbox.superposition_transform(pose1_coordinates,\n",
    "                                                                pose2_coordinates,\n",
    "                                                                rotation_matrix,\n",
    "                                                                pose1_center,\n",
    "                                                                pose2_center)\n",
    "\n",
    "    pyrosetta.rosetta.protocols.toolbox.apply_superposition_transform(pose1,\n",
    "                                                                      rotation_matrix,\n",
    "                                                                      pose1_center,\n",
    "                                                                      pose2_center)\n",
    "    \n",
    "def combine_chains(posea, poseb):\n",
    "    #This function combines chain \"A\" from the first pose (posea) with chain \"B\" from the second pose (poseb) and returns a new pose (newpose)\n",
    "    select_chainA = pyrosetta.rosetta.core.select.residue_selector.ChainSelector(\"A\")\n",
    "    select_chainB = pyrosetta.rosetta.core.select.residue_selector.ChainSelector(\"B\")\n",
    "    newpose = pyrosetta.rosetta.core.pose.Pose()\n",
    "    res_chA = pyrosetta.rosetta.core.select.get_residues_from_subset(select_chainA.apply(posea))\n",
    "    res_chB = pyrosetta.rosetta.core.select.get_residues_from_subset(select_chainB.apply(poseb))\n",
    "    for i in res_chA:\n",
    "        newpose.append_residue_by_bond(posea.residue(i))\n",
    "    newpose.append_residue_by_jump(poseb.residue(poseb.chain_begin(2)), newpose.chain_end(1), \"CA\", \"CA\", 1 )\n",
    "    for i in res_chB:\n",
    "        if i != poseb.chain_begin(2):\n",
    "            newpose.append_residue_by_bond(poseb.residue(i))\n",
    "    return newpose\n",
    "                      \n",
    "def clash_check(pose):\n",
    "    #This function repacks the structure with Glycine's, applies the scorefunction and returns a score. This allows to evaluate if there are backbone clashes\n",
    "    all_gly = pose.clone()\n",
    "    true_sel = pyrosetta.rosetta.core.select.residue_selector.TrueResidueSelector()\n",
    "    true_x = true_sel.apply(all_gly)\n",
    "    pyrosetta.rosetta.protocols.toolbox.pose_manipulation.repack_these_residues(true_x, all_gly, sfxn, False, \"G\" )\n",
    "    score = sfxn(all_gly)\n",
    "    return score\n",
    "\n",
    "\n",
    "def helix_dict(pose):\n",
    "    #This function looks at the secondary structure of a pose based on the Dssp mover implemented in pyrosetta\n",
    "    ss = pyrosetta.rosetta.core.scoring.dssp.Dssp(pose)\n",
    "    hlx_dict = {}\n",
    "    n = 1\n",
    "    for i in range(1,len(pose.sequence())):\n",
    "        if (ss.get_dssp_secstruct(i) == \"H\") & (ss.get_dssp_secstruct(i-1) !=\"H\"):\n",
    "            hlx_dict[n] = [i]\n",
    "        if (ss.get_dssp_secstruct(i) == \"H\") & (ss.get_dssp_secstruct(i+1) !=\"H\"):\n",
    "            hlx_dict[n].append(i)\n",
    "            n +=1\n",
    "    return hlx_dict\n",
    "\n",
    "def load_pose(name):\n",
    "    #This function loads a PDB structure (name = Path to PDB) into a pyrosetta pose structure object\n",
    "    if type(name) == str:\n",
    "        pose = pyrosetta.io.pose_from_pdb(name)\n",
    "    else:\n",
    "        try:\n",
    "            pose = name.clone()\n",
    "        except:\n",
    "            print(\"input must be a pose or a path to a pose\")\n",
    "    return pose\n",
    "\n",
    "def extend_dhr(pose1,pose2, keep = \"c\", h1n = \"last\", h2n = \"last\", h1_c = 3, h2_c = 4):\n",
    "    #This function extends the DHR for several units\n",
    "    #Keep=\"c\", \"c\" means the sequence of the c-terminal pose\n",
    "    #Glossary: DHRs are designed helical repeat proteins, first presented in this paper - DOI: https://doi.org/10.1038/nature16162\n",
    "    if type(pose1) == str:\n",
    "        pose_n = pyrosetta.io.pose_from_pdb(pose1).split_by_chain(1)\n",
    "    else:\n",
    "        pose_n = pose1.split_by_chain(1)\n",
    "    if type(pose2) == str:\n",
    "        pose_c = pyrosetta.io.pose_from_pdb(pose2).split_by_chain(1)\n",
    "    else:\n",
    "        pose_c = pose2.split_by_chain(1)\n",
    "    hdn = helix_dict(pose_n)\n",
    "    hdc = helix_dict(pose_c)\n",
    "    if (h1n == \"last\"):\n",
    "        h1_n = list(hdn)[-2]\n",
    "    else:\n",
    "        h1_n = list(hdn)[h1n]\n",
    "    if (h2n == \"last\"):\n",
    "        h2_n = list(hdn)[-1]\n",
    "    else:\n",
    "        h2_n = list(hdn)[h2n]\n",
    "    copy_c = pose_c.clone()\n",
    "    newpose = pyrosetta.rosetta.core.pose.Pose()\n",
    "    start_c = hdc[h1_c][0]\n",
    "    end_c = hdc[h2_c][1]\n",
    "    start_n = hdn[h1_n][0]\n",
    "    end_n = hdn[h2_n][1]\n",
    "    if (end_n - start_n) != (end_c - start_c):\n",
    "        if keep == \"n\":\n",
    "            start_c = end_c - (end_n - start_n)\n",
    "        elif keep == \"c\":\n",
    "            end_n = start_n + (end_c - start_c) \n",
    "        else:\n",
    "            print(\"keep must be n or c\")\n",
    "        while (start_c < 1) or (start_n < 1):\n",
    "            start_c +=1\n",
    "            start_n +=1\n",
    "    range_CA_align(copy_c, pose_n, start_c, end_c, start_n, end_n)\n",
    "    if keep == \"n\":\n",
    "        cut1 = end_n \n",
    "        cut2 = end_c         \n",
    "    elif keep == \"c\":\n",
    "        cut1 = start_n \n",
    "        cut2 = start_c \n",
    "    else:\n",
    "        print(\"keep must be n or c\")\n",
    "    for i in range(1,cut1):\n",
    "        newpose.append_residue_by_bond(pose_n.residue(i))\n",
    "    for i in range(cut2,len(pose_c.sequence())+1):\n",
    "        newpose.append_residue_by_bond(copy_c.residue(i))\n",
    "    offset = (len(newpose.sequence())-len(pose_c.sequence()))    \n",
    "    \n",
    "    selx = pyrosetta.rosetta.core.select.residue_selector.ResiduePDBInfoHasLabelSelector(\"IntX\")\n",
    "    sely = pyrosetta.rosetta.core.select.residue_selector.ResiduePDBInfoHasLabelSelector(\"IntY\")\n",
    "    int_n = pyrosetta.rosetta.core.select.residue_selector.OrResidueSelector(selx,sely).apply(pose_n)\n",
    "    int_c = pyrosetta.rosetta.core.select.residue_selector.OrResidueSelector(selx,sely).apply(pose_c)\n",
    "    for i in pyrosetta.rosetta.core.select.get_residues_from_subset(int_n):\n",
    "        newpose.replace_residue(i,pose_n.residue(i),1)\n",
    "    for i in pyrosetta.rosetta.core.select.get_residues_from_subset(int_c):\n",
    "        newpose.replace_residue(i+offset,pose_c.residue(i),1)\n",
    "    info = pyrosetta.rosetta.core.pose.PDBInfo(newpose,1)\n",
    "    for label in [\"IntX\",\"IntY\"]:\n",
    "        sel = pyrosetta.rosetta.core.select.residue_selector.ResiduePDBInfoHasLabelSelector(label)\n",
    "        int_n = sel.apply(pose_n)\n",
    "        int_c = sel.apply(pose_c)\n",
    "        for i in pyrosetta.rosetta.core.select.get_residues_from_subset(int_n):            \n",
    "            info.add_reslabel(i,label)\n",
    "        for i in pyrosetta.rosetta.core.select.get_residues_from_subset(int_c):            \n",
    "            info.add_reslabel(i+offset,label)\n",
    "        newpose.pdb_info(info)\n",
    "    return newpose\n",
    "     \n",
    "    \n",
    "def oligomer_align(oligomer,monomer,const_term = \"n\"):\n",
    "    #This function aligns the (extended) monomer to the oligomer structure\n",
    "    #const_term refers to which terminus of the oligomer the monomer should be aligned to \n",
    "    oligo = load_pose(oligomer)\n",
    "    mono = load_pose(monomer)\n",
    "    surf_sel = pyrosetta.rosetta.core.select.residue_selector.LayerSelector()\n",
    "    surf_sel.set_layers(0,0,1)\n",
    "    surf_sel.set_use_sc_neighbors(1)\n",
    "    surf = pyrosetta.rosetta.core.select.get_residues_from_subset(surf_sel.apply(oligo))\n",
    "    if const_term in [\"n\",\"N\"]:\n",
    "        start_m = 1\n",
    "        end_m = len(oligo.chain_sequence(1))\n",
    "        for i in range(1,len(oligo.chain_sequence(1))+1):\n",
    "            j = i\n",
    "            if (i not in surf):\n",
    "                if i not in [1,len(oligo.chain_sequence(1))]:\n",
    "                    mono.replace_residue(j,oligo.residue(i),1)\n",
    "    elif const_term in [\"c\",\"C\"]:\n",
    "        start_m = len(mono.chain_sequence(1)) - len(oligo.chain_sequence(1)) + 1\n",
    "        end_m = len(mono.chain_sequence(1))\n",
    "        for i in range(1,len(oligo.chain_sequence(1))+1):\n",
    "            j = i +len(mono.chain_sequence(1)) - len(oligo.chain_sequence(1))\n",
    "            if (i not in surf):\n",
    "                if i not in [1,len(oligo.chain_sequence(1))]:\n",
    "                    mono.replace_residue(j,oligo.residue(i),1)\n",
    "    else:\n",
    "        print(\"const_term must be n or c\")\n",
    "    newpose = pyrosetta.rosetta.core.pose.Pose()\n",
    "    for i in range(oligo.num_chains()):\n",
    "        start_o = 1 + (i * len(oligo.chain_sequence(1)))\n",
    "        end_o = ((i+1) * len(oligo.chain_sequence(1)))\n",
    "        range_CA_align(mono, oligo, start_m, end_m, start_o, end_o)\n",
    "        if i == 0:\n",
    "            newpose = mono.clone()\n",
    "        if i >= 1:\n",
    "            pyrosetta.rosetta.core.pose.append_pose_to_pose(newpose,mono,1)\n",
    "    return newpose\n",
    "    \n",
    "def dimer_align(dimer,monomer,const_term = \"n\"):\n",
    "    #This function explicitly aligns a monomer to a dimer, which is a special case of oligomer align\n",
    "    #const_term refers to which terminus of the oligomer the monomer should be aligned to \n",
    "    di = load_pose(dimer)\n",
    "    mono = load_pose(monomer)\n",
    "    if const_term in [\"n\",\"N\"]:\n",
    "        start_m = 1\n",
    "        end_m = len(di.chain_sequence(1))\n",
    "    elif const_term in [\"c\",\"C\"]:\n",
    "        start_m = len(mono.chain_sequence(1)) - len(di.chain_sequence(1)) + 1\n",
    "        end_m = len(mono.chain_sequence(1))\n",
    "    else:\n",
    "        print(\"const_term must be n or c\")\n",
    "    range_CA_align(mono, di, start_m, end_m, 1, len(di.chain_sequence(1)))\n",
    "    newpose = mono.split_by_chain(1)\n",
    "    pyrosetta.rosetta.core.pose.append_pose_to_pose(newpose,di.split_by_chain(2),1)\n",
    "    return newpose\n"
   ]
  },
  {
   "cell_type": "code",
   "execution_count": 22,
   "metadata": {},
   "outputs": [
    {
     "data": {
      "text/plain": [
       "True"
      ]
     },
     "execution_count": 22,
     "metadata": {},
     "output_type": "execute_result"
    }
   ],
   "source": [
    "#Repeat extension of individual oligomer building blocks (e.g. the basic DHR) by alignment\n",
    "#Glossary: DHRs are designed helical repeat proteins, first presented in this paper - DOI: https://doi.org/10.1038/nature16162\n",
    "\n",
    "#==========================Variables to adapt==================================\n",
    "#Structure to be extended\n",
    "DHR_Structure = './DHR71.pdb'\n",
    "\n",
    "#If the DHR has 4 repeats, the maximum extension can only be 3 repeats as the script needs the last repeat for alignment; however this process can be iterated\n",
    "extend_by_repeats = 3\n",
    "\n",
    "#Save PDB File to Path with info of how many repeat units were added\n",
    "save_path = DHR_Structure[:-4]+'_%sx.pdb' %extend_by_repeats\n",
    "#===============================================================================\n",
    "\n",
    "#Loads the Structure\n",
    "pose = load_pose(DHR_Structure)\n",
    "\n",
    "#Calculates how many repeat Units the structure has - each repeat unit consists of two helices - this is hardcoded here\n",
    "repeat_units = len(helix_dict(pose))/2\n",
    "\n",
    "#Depending on how many repeat units you want to add, a different alignment position is chosen within the current structure\n",
    "align_to_helix = int(repeat_units*2-extend_by_repeats*2)\n",
    "\n",
    "#Extend the DHR\n",
    "p1 = extend_dhr(DHR_Structure,DHR_Structure,\"n\",-2,-1,align_to_helix-1,align_to_helix)\n",
    "\n",
    "#Save the PDB\n",
    "p1.dump_pdb(save_path)"
   ]
  },
  {
   "cell_type": "code",
   "execution_count": 23,
   "metadata": {},
   "outputs": [
    {
     "data": {
      "text/plain": [
       "True"
      ]
     },
     "execution_count": 23,
     "metadata": {},
     "output_type": "execute_result"
    }
   ],
   "source": [
    "#The next step is to realign the extended building block back to the Oligomer which is supposed to be extended.\n",
    "#Extend the C4 Oligomer\n",
    "\n",
    "Oligomer = './C4-71_design_model.pdb'\n",
    "\n",
    "save_path = Oligomer[:-4]+'_%sx.pdb' %extend_by_repeats\n",
    "\n",
    "p2 = oligomer_align(Oligomer,p1,const_term = \"c\")\n",
    "p2.dump_pdb(save_path)"
   ]
  },
  {
   "cell_type": "code",
   "execution_count": 24,
   "metadata": {},
   "outputs": [
    {
     "data": {
      "text/plain": [
       "True"
      ]
     },
     "execution_count": 24,
     "metadata": {},
     "output_type": "execute_result"
    }
   ],
   "source": [
    "#Extend the C6 Oligomer\n",
    "\n",
    "Oligomer = './C6-71_design_model.pdb'\n",
    "\n",
    "save_path = Oligomer[:-4]+'_%sx.pdb' %extend_by_repeats\n",
    "\n",
    "p2 = oligomer_align(Oligomer,p1,const_term = \"c\")\n",
    "p2.dump_pdb(save_path)"
   ]
  },
  {
   "cell_type": "code",
   "execution_count": 25,
   "metadata": {},
   "outputs": [
    {
     "data": {
      "text/plain": [
       "True"
      ]
     },
     "execution_count": 25,
     "metadata": {},
     "output_type": "execute_result"
    }
   ],
   "source": [
    "#Extend the C8 Oligomer\n",
    "\n",
    "Oligomer = './C8-71_design_model.pdb'\n",
    "\n",
    "save_path = Oligomer[:-4]+'_%sx.pdb' %extend_by_repeats\n",
    "\n",
    "p2 = oligomer_align(Oligomer,p1,const_term = \"c\")\n",
    "p2.dump_pdb(save_path)"
   ]
  },
  {
   "cell_type": "code",
   "execution_count": null,
   "metadata": {},
   "outputs": [],
   "source": []
  },
  {
   "cell_type": "code",
   "execution_count": null,
   "metadata": {},
   "outputs": [],
   "source": []
  }
 ],
 "metadata": {
  "kernelspec": {
   "display_name": "PyRosetta",
   "language": "python",
   "name": "pyrosetta"
  },
  "language_info": {
   "codemirror_mode": {
    "name": "ipython",
    "version": 3
   },
   "file_extension": ".py",
   "mimetype": "text/x-python",
   "name": "python",
   "nbconvert_exporter": "python",
   "pygments_lexer": "ipython3",
   "version": "3.10.12"
  }
 },
 "nbformat": 4,
 "nbformat_minor": 4
}
